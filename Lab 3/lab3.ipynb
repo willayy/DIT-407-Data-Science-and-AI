{
 "cells": [
  {
   "cell_type": "markdown",
   "metadata": {},
   "source": [
    "## A. \n",
    "Data exploration\n",
    "Explore the three datasets. Use your judgment as a human being to describe\n",
    "what makes you able to tell spam apart from ham. Also explore the differences between the two classes of ham (easy and hard ham). What makes them different? Write approximately one paragraph.\n",
    "\n",
    "1. ##### Difference between Ham and Spam\n",
    "    Spam contains a lot of clickbaity titles with links that looks more than suspicious. Very sensational language and the senders adress looks very auto-generated for example: sabrina@mx3.1premio.com.\n",
    "    Ham on the other hand is more legit and the emails looks like they are sent from either real people or real companies with a newsletter and you get the choice to unsubscribe or not.\n",
    "\n",
    "2. ##### Difference between Hard and Easy Ham\n",
    "    Easy ham seems to be mostly conversations between real life people, not alot of code, mostly natural speaking language\n",
    "    Hard Ham contains more code, and contains mostly of commercials which makes it hard to judge if it's actually wanted by the reciever or not."
   ]
  },
  {
   "cell_type": "markdown",
   "metadata": {},
   "source": [
    "## B.\n",
    "Perform an appropriate train-test split on the each of the datasets. We will use\n",
    "the training sets to train a classifier, and evaluate its performance against the\n",
    "test sets."
   ]
  },
  {
   "cell_type": "code",
   "execution_count": 22,
   "metadata": {},
   "outputs": [
    {
     "name": "stdout",
     "output_type": "stream",
     "text": [
      "                                         easy_ham_texts\n",
      "0     b'From exmh-workers-admin@redhat.com  Thu Aug ...\n",
      "1     b'From Steve_Burt@cursor-system.com  Thu Aug 2...\n",
      "2     b'From timc@2ubh.com  Thu Aug 22 13:52:59 2002...\n",
      "3     b'From irregulars-admin@tb.tf  Thu Aug 22 14:2...\n",
      "4     b'From exmh-users-admin@redhat.com  Thu Aug 22...\n",
      "...                                                 ...\n",
      "2546  b\"From rssfeeds@jmason.org  Thu Oct 10 12:32:3...\n",
      "2547  b'From rssfeeds@jmason.org  Thu Oct 10 12:32:3...\n",
      "2548  b'From rssfeeds@jmason.org  Thu Oct 10 12:32:3...\n",
      "2549  b\"From rssfeeds@jmason.org  Thu Oct 10 12:32:3...\n",
      "2550  b'From rssfeeds@jmason.org  Thu Oct 10 12:32:3...\n",
      "\n",
      "[2551 rows x 1 columns]\n",
      "                                            spam_texts\n",
      "0    b'mv 1 00001.bfc8d64d12b325ff385cca8d07b84288\\...\n",
      "1    b'From 12a1mailbot1@web.de  Thu Aug 22 13:17:2...\n",
      "2    b'From ilug-admin@linux.ie  Thu Aug 22 13:27:3...\n",
      "3    b'From sabrina@mx3.1premio.com  Thu Aug 22 14:...\n",
      "4    b'From wsup@playful.com  Thu Aug 22 16:17:00 2...\n",
      "..                                                 ...\n",
      "496  b'From biz2biz2446@Flashmail.com  Mon Oct  7 2...\n",
      "497  b'From cna@insiq.us  Tue Oct  8 00:10:39 2002\\...\n",
      "498  b'From bounce2@u-answer.com  Tue Oct  8 11:02:...\n",
      "499  b'From beautyinfufuxxxmeb13mxy@aol.com  Tue Oc...\n",
      "500  b'From evtwqmigru@datcon.co.uk  Tue Oct  8 11:...\n",
      "\n",
      "[501 rows x 1 columns]\n",
      "                                        hard_ham_texts\n",
      "0    b'Return-Path: <Online#3.19578.34-UgGTgZFN19NA...\n",
      "1    b'Return-Path: <Online#3.19584.83-p1SYlJ1blFvQ...\n",
      "2    b'Return-Path: <Online#3.19586.b5-9w0blztbvHPd...\n",
      "3    b\"Return-Path: <update@list.theregister.co.uk>...\n",
      "4    b'Return-Path: <bounce-lglinux-2534371@sprocke...\n",
      "..                                                 ...\n",
      "245  b'Return-Path: ler@lerami.lerctr.org\\nDelivery...\n",
      "246  b'Return-Path: ler@lerami.lerctr.org\\nDelivery...\n",
      "247  b'From bounce-ora_webprog-1083425@newsletter.o...\n",
      "248  b'Return-Path: linux-announce-recipients-owner...\n",
      "249  b\"Return-Path: <test-admin@lists.sourceforge.n...\n",
      "\n",
      "[250 rows x 1 columns]\n"
     ]
    }
   ],
   "source": [
    "import pandas as pd\n",
    "import os\n",
    "\n",
    "# Creating lists and dicts to parse the text files\n",
    "easy_ham_dictionary = {}\n",
    "hard_ham_dictionary = {}\n",
    "spam_dictionary = {}\n",
    "easy_ham_texts = []\n",
    "hard_ham_texts = []\n",
    "spam_texts = []\n",
    "easy_ham_path = os.getcwd() + \"/20021010_easy_ham/easy_ham/\"\n",
    "hard_ham_path = os.getcwd() + \"/20021010_hard_ham/hard_ham/\"\n",
    "spam_path = os.getcwd() + \"/20021010_spam/spam/\"\n",
    "\n",
    "# Parsing the text files into lists\n",
    "for file_name in os.listdir(easy_ham_path):\n",
    "    f = open(easy_ham_path+file_name, \"rb\")\n",
    "    text = f.read()\n",
    "    easy_ham_texts.append(text)\n",
    "    f.close()\n",
    "\n",
    "for file_name in os.listdir(hard_ham_path):\n",
    "    f = open(hard_ham_path+file_name, \"rb\")\n",
    "    text = f.read()\n",
    "    hard_ham_texts.append(text)\n",
    "    f.close()\n",
    "\n",
    "for file_name in os.listdir(spam_path):\n",
    "    f = open(spam_path+file_name, \"rb\")\n",
    "    text = f.read()\n",
    "    spam_texts.append(text)\n",
    "    f.close()\n",
    "\n",
    "# Creating dicts from the lists\n",
    "easy_ham_dictionary[\"easy_ham_texts\"] = easy_ham_texts\n",
    "hard_ham_dictionary[\"hard_ham_texts\"] = hard_ham_texts\n",
    "spam_dictionary[\"spam_texts\"] = spam_texts\n",
    "\n",
    "# Creating dataframes from the dicts\n",
    "easy_ham_df = pd.DataFrame.from_dict(easy_ham_dictionary)\n",
    "hard_ham_df = pd.DataFrame.from_dict(hard_ham_dictionary)\n",
    "spam_df = pd.DataFrame.from_dict(spam_dictionary)\n",
    "\n",
    "print(easy_ham_df)\n",
    "print(spam_df)\n",
    "print(hard_ham_df)\n"
   ]
  }
 ],
 "metadata": {
  "kernelspec": {
   "display_name": ".venv",
   "language": "python",
   "name": "python3"
  },
  "language_info": {
   "codemirror_mode": {
    "name": "ipython",
    "version": 3
   },
   "file_extension": ".py",
   "mimetype": "text/x-python",
   "name": "python",
   "nbconvert_exporter": "python",
   "pygments_lexer": "ipython3",
   "version": "3.12.1"
  }
 },
 "nbformat": 4,
 "nbformat_minor": 2
}
