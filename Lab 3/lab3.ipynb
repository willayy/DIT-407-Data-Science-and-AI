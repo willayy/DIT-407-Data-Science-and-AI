{
 "cells": [
  {
   "cell_type": "markdown",
   "metadata": {},
   "source": [
    "## A. \n",
    "Data exploration\n",
    "Explore the three datasets. Use your judgment as a human being to describe\n",
    "what makes you able to tell spam apart from ham. Also explore the differences between the two classes of ham (easy and hard ham). What makes them different? Write approximately one paragraph.\n",
    "\n",
    "1. ##### Difference between Ham and Spam\n",
    "    Spam contains a lot of clickbaity titles with links that looks more than suspicious. Very sensational language and the senders adress looks very auto-generated for example: sabrina@mx3.1premio.com.\n",
    "    Ham on the other hand is more legit and the emails looks like they are sent from either real people or real companies with a newsletter and you get the choice to unsubscribe or not.\n",
    "\n",
    "2. ##### Difference between Hard and Easy Ham\n",
    "    Easy ham seems to be mostly conversations between real life people, not alot of code, mostly natural speaking language\n",
    "    Hard Ham contains more code, and contains mostly of commercials which makes it hard to judge if it's actually wanted by the reciever or not."
   ]
  },
  {
   "cell_type": "markdown",
   "metadata": {},
   "source": [
    "## B.\n",
    "Perform an appropriate train-test split on the each of the datasets. We will use\n",
    "the training sets to train a classifier, and evaluate its performance against the\n",
    "test sets."
   ]
  },
  {
   "cell_type": "code",
   "execution_count": 13,
   "metadata": {},
   "outputs": [
    {
     "name": "stdout",
     "output_type": "stream",
     "text": [
      "                                 file_names  \\\n",
      "0     2170.78c282a5e417d6d231dc75aa8588ebb7   \n",
      "1     0461.7609029b07acf65f40bd93882aa35887   \n",
      "2     1077.5967a2892063a3470f32596403b095aa   \n",
      "3     1000.348e8a82897b05d584de019f4dd5c7e2   \n",
      "4     2125.ee1e93366c2199584cfbd4cbb353d918   \n",
      "...                                     ...   \n",
      "2546  0161.5703ef6933a7f189ab48da12a925f5e4   \n",
      "2547  1850.147241797a056a32e99562b240ebb283   \n",
      "2548  0984.c155c04486f51644804c5e184a8e2a85   \n",
      "2549  0782.03d024d74f36ef492a9d8d5de300fb94   \n",
      "2550  1001.6d9880fcc649355d3c7faebf01c61d42   \n",
      "\n",
      "                                             file_texts  \n",
      "0     b\"From rssfeeds@jmason.org  Mon Sep 30 13:43:4...  \n",
      "1     b'From fork-admin@xent.com  Tue Sep  3 14:24:4...  \n",
      "2     b'From exmh-users-admin@redhat.com  Wed Sep 11...  \n",
      "3     b'From fork-admin@xent.com  Mon Sep  2 16:22:1...  \n",
      "4     b'From rssfeeds@jmason.org  Fri Sep 27 10:40:5...  \n",
      "...                                                 ...  \n",
      "2546  b'From fork-admin@xent.com  Tue Oct  8 10:56:4...  \n",
      "2547  b'Return-Path: tim.one@comcast.net\\nDelivery-D...  \n",
      "2548  b\"From fork-admin@xent.com  Fri Aug 23 11:08:3...  \n",
      "2549  b'From fork-admin@xent.com  Mon Sep 23 22:47:3...  \n",
      "2550  b'From spamassassin-talk-admin@lists.sourcefor...  \n",
      "\n",
      "[2551 rows x 2 columns]\n"
     ]
    }
   ],
   "source": [
    "import pandas as pd\n",
    "import os\n",
    "\n",
    "# table format [file_name: text]\n",
    "dictionary = {}\n",
    "file_names = []\n",
    "file_texts = []\n",
    "dir_path = os.getcwd() + \"/20021010_easy_ham/easy_ham/\"\n",
    "for file_name in os.listdir(dir_path):\n",
    "    # Load the text file\n",
    "    f = open(dir_path+file_name, \"rb\")\n",
    "    # Read the text in the file\n",
    "    text = f.read()\n",
    "\n",
    "    file_names.append(file_name)\n",
    "    file_texts.append(text)\n",
    "\n",
    "dictionary[\"file_names\"] = file_names\n",
    "dictionary[\"file_texts\"] = file_texts\n",
    "\n",
    "import pandas as pd\n",
    "pandas_dataframe = pd.DataFrame.from_dict(dictionary)\n",
    "\n",
    "print(pandas_dataframe)\n"
   ]
  }
 ],
 "metadata": {
  "kernelspec": {
   "display_name": ".venv",
   "language": "python",
   "name": "python3"
  },
  "language_info": {
   "codemirror_mode": {
    "name": "ipython",
    "version": 3
   },
   "file_extension": ".py",
   "mimetype": "text/x-python",
   "name": "python",
   "nbconvert_exporter": "python",
   "pygments_lexer": "ipython3",
   "version": "3.12.1"
  }
 },
 "nbformat": 4,
 "nbformat_minor": 2
}
