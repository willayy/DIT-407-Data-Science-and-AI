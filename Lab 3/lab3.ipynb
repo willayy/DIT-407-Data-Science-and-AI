{
 "cells": [
  {
   "cell_type": "markdown",
   "metadata": {},
   "source": [
    "## A. \n",
    "Data exploration\n",
    "Explore the three datasets. Use your judgment as a human being to describe\n",
    "what makes you able to tell spam apart from ham. Also explore the differences between the two classes of ham (easy and hard ham). What makes them different? Write approximately one paragraph.\n",
    "\n",
    "1. ##### Difference between Ham and Spam\n",
    "    Spam contains a lot of clickbaity titles with links that looks more than suspicious. Very sensational language and the senders adress looks very auto-generated for example: sabrina@mx3.1premio.com.\n",
    "    Ham on the other hand is more legit and the emails looks like they are sent from either real people or real companies with a newsletter and you get the choice to unsubscribe or not.\n",
    "\n",
    "2. ##### Difference between Hard and Easy Ham\n",
    "    Easy ham seems to be mostly conversations between real life people, not alot of code, mostly natural speaking language\n",
    "    Hard Ham contains more code, and contains mostly of commercials which makes it hard to judge if it's actually wanted by the reciever or not."
   ]
  },
  {
   "cell_type": "markdown",
   "metadata": {},
   "source": [
    "## B.\n",
    "Perform an appropriate train-test split on the each of the datasets. We will use\n",
    "the training sets to train a classifier, and evaluate its performance against the\n",
    "test sets."
   ]
  },
  {
   "cell_type": "code",
   "execution_count": 6,
   "metadata": {},
   "outputs": [
    {
     "name": "stdout",
     "output_type": "stream",
     "text": [
      "285     b\"From spamassassin-talk-admin@lists.sourcefor...\n",
      "2692    b'From rpm-list-admin@freshrpms.net  Wed Oct  ...\n",
      "3210    b'From hezf855@framesetup.com  Thu Aug 29 10:5...\n",
      "1603    b'From fork-admin@xent.com  Sun Sep 22 14:11:4...\n",
      "91      b'From rpm-list-admin@freshrpms.net  Tue Sep 1...\n",
      "                              ...                        \n",
      "2763    b'Return-Path: <Online#3.20483.52-WfysgP14zsqz...\n",
      "905     b\"From rpm-list-admin@freshrpms.net  Mon Oct  ...\n",
      "1096    b\"From rssfeeds@jmason.org  Thu Sep 26 16:43:2...\n",
      "235     b\"From rssfeeds@jmason.org  Tue Oct  1 10:36:3...\n",
      "1061    b'From fork-admin@xent.com  Tue Sep 24 10:49:2...\n",
      "Length: 2476, dtype: object\n",
      "285     easy_ham\n",
      "2692    hard_ham\n",
      "3210        spam\n",
      "1603    easy_ham\n",
      "91      easy_ham\n",
      "          ...   \n",
      "2763    hard_ham\n",
      "905     easy_ham\n",
      "1096    easy_ham\n",
      "235     easy_ham\n",
      "1061    easy_ham\n",
      "Length: 2476, dtype: object\n"
     ]
    }
   ],
   "source": [
    "import pandas as pd\n",
    "import os\n",
    "from sklearn.model_selection import train_test_split\n",
    "\n",
    "# Setting the random state to 1 to ensure reproducibility\n",
    "RANDOM_STATE = 1\n",
    "\n",
    "# Creating lists and dicts to parse the text files\n",
    "texts: list[str] = []\n",
    "labels: list[str] = []\n",
    "easy_ham_dir_path = os.getcwd() + \"/20021010_easy_ham/easy_ham/\"\n",
    "hard_ham_dir_path = os.getcwd() + \"/20021010_hard_ham/hard_ham/\"\n",
    "spam_dir_path = os.getcwd() + \"/20021010_spam/spam/\"\n",
    "\n",
    "# Parsing the text files into lists\n",
    "for file_name in os.listdir(easy_ham_dir_path):\n",
    "    f = open(easy_ham_dir_path+file_name, \"rb\")\n",
    "    text = f.read()\n",
    "    texts.append(text)\n",
    "    labels.append(\"easy_ham\")\n",
    "    f.close()\n",
    "\n",
    "for file_name in os.listdir(hard_ham_dir_path):\n",
    "    f = open(hard_ham_dir_path+file_name, \"rb\")\n",
    "    text = f.read()\n",
    "    texts.append(text)\n",
    "    labels.append(\"hard_ham\")\n",
    "    f.close()\n",
    "\n",
    "for file_name in os.listdir(spam_dir_path):\n",
    "    f = open(spam_dir_path+file_name, \"rb\")\n",
    "    text = f.read()\n",
    "    texts.append(text)\n",
    "    labels.append(\"spam\")\n",
    "    f.close()\n",
    "\n",
    "# Making the lists series for nicer printing\n",
    "texts = pd.Series(texts)\n",
    "labels = pd.Series(labels)\n",
    "\n",
    "# Make a simple train-test split using 25% of the data for testing as this was recommended in last thursday's lecture\n",
    "x_train, x_test, y_train, y_test = train_test_split(texts, labels, test_size=0.25, random_state=RANDOM_STATE)\n",
    "\n",
    "print(x_train)\n",
    "print(y_train)"
   ]
  }
 ],
 "metadata": {
  "kernelspec": {
   "display_name": ".venv",
   "language": "python",
   "name": "python3"
  },
  "language_info": {
   "codemirror_mode": {
    "name": "ipython",
    "version": 3
   },
   "file_extension": ".py",
   "mimetype": "text/x-python",
   "name": "python",
   "nbconvert_exporter": "python",
   "pygments_lexer": "ipython3",
   "version": "3.12.1"
  }
 },
 "nbformat": 4,
 "nbformat_minor": 2
}
