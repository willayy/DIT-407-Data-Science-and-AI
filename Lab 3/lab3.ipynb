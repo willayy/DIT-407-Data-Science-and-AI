{
 "cells": [
  {
   "cell_type": "markdown",
   "metadata": {},
   "source": [
    "A. Data exploration\n",
    "Explore the three datasets. Use your judgment as a human being to describe\n",
    "what makes you able to tell spam apart from ham. Also explore the differences between the two classes of ham (easy and hard ham). What makes them different? Write approximately one paragraph.\n",
    "\n",
    "1. ##### Difference between Ham and Spam\n",
    "    Spam contains a lot of clickbaity titles with links that looks more than suspicious. Very sensational language and the senders adress looks very auto-generated for example: sabrina@mx3.1premio.com.\n",
    "    Ham on the other hand is more legit and the emails looks like they are sent from either real people or real companys with a newsletter and you get the choice to unsubscribe or not.\n",
    "\n",
    "2. ##### Difference between Hard and Easy Ham\n",
    "    Easy ham seems to be mostly conversations between real life people, not alot of code, mostly natural speaking language\n",
    "    Hard Ham contains more code, and contains mostly of commercials which makes it hard to judge if it's actually wanted by the reciever or not."
   ]
  },
  {
   "cell_type": "markdown",
   "metadata": {},
   "source": []
  }
 ],
 "metadata": {
  "language_info": {
   "name": "python"
  }
 },
 "nbformat": 4,
 "nbformat_minor": 2
}
