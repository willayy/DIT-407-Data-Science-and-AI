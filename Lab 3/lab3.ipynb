{
 "cells": [
  {
   "cell_type": "markdown",
   "metadata": {},
   "source": [
    "## A. \n",
    "Data exploration\n",
    "Explore the three datasets. Use your judgment as a human being to describe\n",
    "what makes you able to tell spam apart from ham. Also explore the differences between the two classes of ham (easy and hard ham). What makes them different? Write approximately one paragraph.\n",
    "\n",
    "1. ##### Difference between Ham and Spam\n",
    "    Spam contains a lot of clickbaity titles with links that looks more than suspicious. Very sensational language and the senders adress looks very auto-generated for example: sabrina@mx3.1premio.com.\n",
    "    Ham on the other hand is more legit and the emails looks like they are sent from either real people or real companies with a newsletter and you get the choice to unsubscribe or not.\n",
    "\n",
    "2. ##### Difference between Hard and Easy Ham\n",
    "    Easy ham seems to be mostly conversations between real life people, not alot of code, mostly natural speaking language\n",
    "    Hard Ham contains more code, and contains mostly of commercials which makes it hard to judge if it's actually wanted by the reciever or not."
   ]
  },
  {
   "cell_type": "markdown",
   "metadata": {},
   "source": [
    "## B.\n",
    "Perform an appropriate train-test split on the each of the datasets. We will use\n",
    "the training sets to train a classifier, and evaluate its performance against the\n",
    "test sets."
   ]
  },
  {
   "cell_type": "code",
   "execution_count": 1,
   "metadata": {},
   "outputs": [
    {
     "name": "stdout",
     "output_type": "stream",
     "text": [
      "Empty DataFrame\n",
      "Columns: []\n",
      "Index: []\n"
     ]
    }
   ],
   "source": [
    "import pandas as pd\n",
    "import glob, os\n",
    "\n",
    "# Read txt file from the folders\n",
    "easy_ham_folder_path = os.getcwd() + r\"/Lab 3/20021010_easy_ham\"\n",
    "hard_ham_folder_path = os.getcwd() + r\"Lab 3/20021010_hard_ham\"\n",
    "spam_folder_path = os.getcwd() + r\"Lab 3/20021010_spam\"\n",
    "\n",
    "# Read the files from the folders\n",
    "easy_ham_files = glob.glob(easy_ham_folder_path + \"/*.txt\")\n",
    "hard_ham_files = glob.glob(hard_ham_folder_path + \"/*.txt\")\n",
    "spam_files = glob.glob(spam_folder_path + \"/*.txt\")\n",
    "\n",
    "# Make dataframes\n",
    "for file in easy_ham_files:\n",
    "    with open(file, 'r') as f:\n",
    "        easy_ham_df = pd.DataFrame(f.readlines())\n",
    "\n",
    "print(easy_ham_df)"
   ]
  }
 ],
 "metadata": {
  "kernelspec": {
   "display_name": ".venv",
   "language": "python",
   "name": "python3"
  },
  "language_info": {
   "codemirror_mode": {
    "name": "ipython",
    "version": 3
   },
   "file_extension": ".py",
   "mimetype": "text/x-python",
   "name": "python",
   "nbconvert_exporter": "python",
   "pygments_lexer": "ipython3",
   "version": "3.12.1"
  }
 },
 "nbformat": 4,
 "nbformat_minor": 2
}
