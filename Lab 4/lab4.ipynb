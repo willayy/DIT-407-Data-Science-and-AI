{
 "cells": [
  {
   "cell_type": "markdown",
   "metadata": {},
   "source": [
    "## Problem 1\n",
    "Perform an appropriate train-test split on the data. In your report, justify why <br>\n",
    "you chose to do the split in the way you did. In further problems, only ever <br>\n",
    "perform exploratory data analysis on the training data, as testing data should <br>\n",
    "never be used to draw hypotheses."
   ]
  },
  {
   "cell_type": "code",
   "execution_count": 95,
   "metadata": {},
   "outputs": [],
   "source": [
    "import pandas as pd\n",
    "from sklearn.model_selection import train_test_split\n",
    "\n",
    "RANDOM_STATE = 1\n",
    "\n",
    "raw_df = pd.read_csv(\"life_expectancy.csv\")\n",
    "# Test size of 0.25 because this was recommended in a lecture.\n",
    "train_df: pd.DataFrame\n",
    "test_df: pd.DataFrame\n",
    "train_df, test_df = train_test_split(raw_df, test_size=0.25, random_state=RANDOM_STATE)"
   ]
  },
  {
   "cell_type": "markdown",
   "metadata": {},
   "source": [
    "## Problem 2.a\n",
    "Identify the variable that has the strongest linear relationship with the <br>\n",
    "target variable. Do so by calculating and reporting the Pearson product-moment <br>\n",
    "correlation coefficient between this variable and the target variable (LEB) in <br>\n",
    "your report. Hint: use functions for doing this from the Pandas dataframe <br>\n",
    "package. <br> <br>\n",
    "\n",
    "Our correlation study showed that the strongest positvie linear correlation with <br>\n",
    "LEB was Human Development Index (value) with a **Pearson coefficient of 0.916981**"
   ]
  },
  {
   "cell_type": "code",
   "execution_count": 96,
   "metadata": {},
   "outputs": [
    {
     "name": "stdout",
     "output_type": "stream",
     "text": [
      "Life Expectancy at Birth, both sexes (years)                                       1.000000\n",
      "Human Development Index (value)                                                    0.916981\n",
      "Expected Years of Schooling, female (years)                                        0.810141\n",
      "Expected Years of Schooling (years)                                                0.796385\n",
      "Median Age, as of 1 July (years)                                                   0.792761\n",
      "Expected Years of Schooling, male (years)                                          0.775236\n",
      "Mean Years of Schooling, female (years)                                            0.744041\n",
      "Mean Years of Schooling (years)                                                    0.738286\n",
      "Mean Years of Schooling, male (years)                                              0.723811\n",
      "Population with at least some secondary education, female (% ages 25 and older)    0.688005\n",
      "Population with at least some secondary education, male (% ages 25 and older)      0.653673\n",
      "Gross National Income Per Capita (2017 PPP$)                                       0.651839\n",
      "Material footprint per capita (tonnes)                                             0.591043\n",
      "Gender Development Index (value)                                                   0.590364\n",
      "Carbon dioxide emissions per capita (production) (tonnes)                          0.458978\n",
      "Population Annual Doubling Time (years)                                            0.411446\n",
      "Sex Ratio at Birth (males per 100 female births)                                   0.400321\n",
      "Share of seats in parliament, female (% held by women)                             0.280947\n",
      "Year                                                                               0.223267\n",
      "Population Density, as of 1 July (persons per square km)                           0.198646\n",
      "Net Number of Migrants (thousands)                                                 0.167485\n",
      "Net Migration Rate (per 1,000 population)                                          0.130499\n",
      "Population Sex Ratio, as of 1 July (males per 100 females)                         0.116352\n",
      "Mean Age Childbearing (years)                                                      0.035003\n",
      "Female Population, as of 1 July (thousands)                                        0.027852\n",
      "Total Population, as of 1 January (thousands)                                      0.027299\n",
      "Total Population, as of 1 July (thousands)                                         0.026662\n",
      "Male Population, as of 1 July (thousands)                                          0.025525\n",
      "Male Deaths (thousands)                                                           -0.004146\n",
      "Total Deaths (thousands)                                                          -0.005852\n",
      "Female Deaths (thousands)                                                         -0.007883\n",
      "Live births Surviving to Age 1 (thousands)                                        -0.063153\n",
      "Births (thousands)                                                                -0.067694\n",
      "Population Change (thousands)                                                     -0.086238\n",
      "Natural Change, Births minus Deaths (thousands)                                   -0.102968\n",
      "Births by women aged 15 to 19 (thousands)                                         -0.140178\n",
      "Labour force participation rate, male (% ages 15 and older)                       -0.177343\n",
      "Labour force participation rate, female (% ages 15 and older)                     -0.248157\n",
      "Share of seats in parliament, male (% held by men)                                -0.280947\n",
      "Population Growth Rate (percentage)                                               -0.283434\n",
      "Inequality in income                                                              -0.433024\n",
      "Crude Death Rate (deaths per 1,000 population)                                    -0.560053\n",
      "Inequality in eduation                                                            -0.684951\n",
      "Rate of Natural Change (per 1,000 population)                                     -0.706564\n",
      "Net Reproduction Rate (surviving daughters per woman)                             -0.769984\n",
      "Adolescent Birth Rate (births per 1,000 women ages 15-19)                         -0.795818\n",
      "Total Fertility Rate (live births per woman)                                      -0.832893\n",
      "Coefficient of human inequality                                                   -0.853844\n",
      "Crude Birth Rate (births per 1,000 population)                                    -0.859507\n",
      "Name: Life Expectancy at Birth, both sexes (years), dtype: float64\n"
     ]
    }
   ],
   "source": [
    "# Calculate the Pearson correlation coefficient between each feature and the target LEB under column \"Life Expectancy at Birth, both sexes (years)\"\n",
    "corr_df = train_df.corr(\"pearson\", numeric_only=True)\n",
    "\n",
    "# Human developement index, HDI, had the strongest positive linear correlation with LEB at 0.916981\n",
    "# This means that increase in HDI means increase in LEB\n",
    "print(corr_df[\"Life Expectancy at Birth, both sexes (years)\"].sort_values(ascending=False))"
   ]
  },
  {
   "cell_type": "markdown",
   "metadata": {},
   "source": [
    "## Problem  2.b\n",
    "Construct a single-variable linear model using this variable. In your re-\n",
    "port, report the coefficient of determination, and the coefficients of your model,\n",
    "including the intercept. Also, produce a scatter plot showing the LEB as the\n",
    "function of the variable you identified. Plot the regression line over the scatter\n",
    "plot.\n"
   ]
  },
  {
   "cell_type": "code",
   "execution_count": 97,
   "metadata": {},
   "outputs": [
    {
     "name": "stdout",
     "output_type": "stream",
     "text": [
      "R-squared value: 0.8408542110825198\n",
      "Intercept 34.6583231013562\n",
      "slope [51.33734509]\n"
     ]
    }
   ],
   "source": [
    "from sklearn.linear_model import LinearRegression\n",
    "import numpy as np\n",
    "from numpy import ndarray\n",
    "\n",
    "x_hdi_values = np.array(train_df[\"Human Development Index (value)\"]).reshape(-1,1)\n",
    "y_leb_values = np.array(train_df[\"Life Expectancy at Birth, both sexes (years)\"])\n",
    "\n",
    "# Create a linear regression model\n",
    "model = LinearRegression()\n",
    "model.fit(x_hdi_values, y_leb_values)\n",
    "\n",
    "r_score = model.score(x_hdi_values, y_leb_values)\n",
    "model_intercept = model.intercept_\n",
    "model_slope = model.coef_\n",
    "\n",
    "print(f\"R-squared value: {r_score}\")\n",
    "print(f\"Intercept: {model_intercept}\")\n",
    "print(f\"Slope: {model_slope}\")\n"
   ]
  }
 ],
 "metadata": {
  "kernelspec": {
   "display_name": ".venv",
   "language": "python",
   "name": "python3"
  },
  "language_info": {
   "codemirror_mode": {
    "name": "ipython",
    "version": 3
   },
   "file_extension": ".py",
   "mimetype": "text/x-python",
   "name": "python",
   "nbconvert_exporter": "python",
   "pygments_lexer": "ipython3",
   "version": "3.12.1"
  }
 },
 "nbformat": 4,
 "nbformat_minor": 2
}
