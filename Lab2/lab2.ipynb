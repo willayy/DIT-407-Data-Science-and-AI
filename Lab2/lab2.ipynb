{
 "cells": [
  {
   "cell_type": "markdown",
   "metadata": {},
   "source": [
    "Date of sale Såld 28 oktober 2023, \n",
    "Address (or sometimes the name of the plot of land) Strömgatan 4, \n",
    "Location of the estate Ytterby, Kungalvs kommun, \n",
    "Area in the form of boarea+biarea 105+10 m2 ,\n",
    "The number of rooms 5 rum, \n",
    "Area of the plot 972 m2 tomt\n",
    "Closing price 5 750 000 kr.\n",
    "\n",
    "Todo: regex på adress som måste va på samma rad, "
   ]
  },
  {
   "cell_type": "code",
   "execution_count": null,
   "metadata": {},
   "outputs": [],
   "source": [
    "# Helper function to flatten a 2D list into a 1D list\n",
    "def flatten(matrix: list[list[type]]) -> list[type]:\n",
    "    return [item for sublist in matrix for item in sublist]"
   ]
  },
  {
   "cell_type": "code",
   "execution_count": null,
   "metadata": {},
   "outputs": [],
   "source": [
    "from bs4 import BeautifulSoup, ResultSet, Tag\n",
    "import pandas as pd, matplotlib as pl, glob, os, re\n",
    "\n",
    "# get all html files in the directory\n",
    "dir_path = os.getcwd() + \"/kungalv_slutpriser/*.html\"\n",
    "files = glob.glob(dir_path)\n",
    "soups = [BeautifulSoup(open(file, encoding=\"utf-8\"), \"html.parser\") for file in files]\n",
    "\n",
    "sold_houses_divs: list[ResultSet[Tag]] = [soup.find_all(\"div\", class_ = \"hcl-padded-container hcl-flex--container hcl-flex--direction-column\") for soup in soups]\n",
    "sold_houses_divs: list[Tag] = flatten(sold_houses_divs)\n",
    "sold_houses_strs: list[str] = [div.text for div in sold_houses_divs]\n"
   ]
  },
  {
   "cell_type": "code",
   "execution_count": null,
   "metadata": {},
   "outputs": [],
   "source": [
    "from bs4 import BeautifulSoup, ResultSet, Tag\n",
    "import pandas as pd, matplotlib as pl, glob, os, re\n",
    "\n",
    "# get all html files in the directory\n",
    "dir_path = os.getcwd() + \"/kungalv_slutpriser/*.html\"\n",
    "files = glob.glob(dir_path)\n",
    "soups = [BeautifulSoup(open(file, encoding=\"utf-8\"), \"html.parser\") for file in files]\n",
    "\n",
    "# regex patterns\n",
    "date_of_sale_pattern = r\"Såld (\\d{1,2}) (januari|februari|mars|april|maj|juni|juli|augusti|september|oktober|november|december) (\\d{4})\"\n",
    "adress_pattern = r\"\\b\\w+(?:\\s+\\w+)*\\s+\\d{1,3}\\b\"\n",
    "location_pattern = r\"\\b\\w+(?:,\\s+\\w+\\s+\\w+)\\b\"\n",
    "bo_and_bi_area_pattern = r\"\\bboarea\\+\\bbiarea\\s+(\\d+\\+\\d+)\\s+m2\\b\"\n",
    "nr_of_rooms_pattern = r\"\\b\\d+\\s*rum\\b\"\n",
    "area_of_plot_pattern = r\"\\b\\d+\\s*m2\\s+tomt\\b\"\n",
    "closing_price_pattern = r\"\\b\\d{1,3}(?: \\d{3})* kr\\b\"\n",
    "\n",
    "# find all addresses in the html files\n",
    "adress_h2s: list[ResultSet[Tag]] = [soup.find_all(\"h2\", class_=\"sold-property-listing__heading qa-selling-price-title hcl-card__title\") for soup in soups]\n",
    "adress_strs = [h2.text for resultSet in adress_h2s for h2 in resultSet]\n",
    "\n",
    "# find all bo and bi areas in the html files\n",
    "bo_and_bi_area_divs: list[ResultSet[Tag]] = [soup.find_all(\"div\", class_=\"sold-property-listing__subheading sold-property-listing__area\") for soup in soups]\n",
    "bo_and_bi_area_strs = [div.text for resultSet2 in bo_and_bi_area_divs for div in resultSet2]\n",
    "\n",
    "dates: list[tuple] = flatten([re.findall(date_of_sale_pattern, soup.text) for soup in soups])\n",
    "dates: list[str]  = [f\"{date[0]} {date[1]} {date[2]}\" for date in dates]\n",
    "adresses: list[str] = flatten([re.findall(adress_pattern, str) for str in adress_strs])\n",
    "locations: list[str] = flatten([re.findall(location_pattern, soups.text) for soups in soups])\n",
    "locations = [item.replace(\"\\n\",\"\") for item in locations]\n",
    "locations = [item.replace(\"         \",\"\") for item in locations]\n",
    "#bo_and_bi_areas = bo_and_bi_area_divs.get_text(strip = True)\n",
    "#nr_of_rooms = [re.findall(nr_of_rooms_pattern, soups.text) for soups in soups]\n",
    "#area_of_plots = [re.findall(area_of_plot_pattern, soups.text) for soups in soups]\n",
    "#closing_prices = [re.findall(closing_price_pattern, soups.text) for soups in soups]\n",
    "\n",
    "print(len(dates))\n",
    "print(len(adresses))\n",
    "print(len(locations))\n",
    "print(bo_and_bi_areas)\n",
    "#print(nr_of_rooms)\n",
    "#print(area_of_plots)\n",
    "#print(closing_prices)\n"
   ]
  }
 ],
 "metadata": {
  "kernelspec": {
   "display_name": ".venv",
   "language": "python",
   "name": "python3"
  },
  "language_info": {
   "codemirror_mode": {
    "name": "ipython",
    "version": 3
   },
   "file_extension": ".py",
   "mimetype": "text/x-python",
   "name": "python",
   "nbconvert_exporter": "python",
   "pygments_lexer": "ipython3",
   "version": "3.12.2"
  }
 },
 "nbformat": 4,
 "nbformat_minor": 2
}
