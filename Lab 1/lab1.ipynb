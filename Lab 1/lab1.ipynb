{
 "cells": [
  {
   "cell_type": "markdown",
   "metadata": {},
   "source": [
    "#### Testing jupyter notebook\n",
    "The code will print ``` \"Hello world\" ``` and verify that pytorch works"
   ]
  },
  {
   "cell_type": "code",
   "execution_count": 8,
   "metadata": {},
   "outputs": [
    {
     "name": "stdout",
     "output_type": "stream",
     "text": [
      "Hello world \n",
      "\n",
      "tensor([[0.1333, 0.1654, 0.5377],\n",
      "        [0.5972, 0.4557, 0.9545],\n",
      "        [0.5623, 0.4341, 0.3678],\n",
      "        [0.3590, 0.5780, 0.5630],\n",
      "        [0.2707, 0.3478, 0.5655]])\n"
     ]
    }
   ],
   "source": [
    "print(\"Hello world \\n\")\n",
    "\n",
    "import torch\n",
    "x = torch.rand(5, 3)\n",
    "print(x)"
   ]
  }
 ],
 "metadata": {
  "kernelspec": {
   "display_name": ".venv",
   "language": "python",
   "name": "python3"
  },
  "language_info": {
   "codemirror_mode": {
    "name": "ipython",
    "version": 3
   },
   "file_extension": ".py",
   "mimetype": "text/x-python",
   "name": "python",
   "nbconvert_exporter": "python",
   "pygments_lexer": "ipython3",
   "version": "3.12.1"
  }
 },
 "nbformat": 4,
 "nbformat_minor": 2
}
