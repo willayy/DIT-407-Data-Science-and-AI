{
 "cells": [
  {
   "cell_type": "markdown",
   "metadata": {},
   "source": [
    "#### Task i\n",
    "Use Python tools, such as Pandas, NumPy, and Matplotlib, to read the <br>\n",
    "dataset, and plot a figure that shows the dependency ratio of Sweden from <br>\n",
    "1860 to 2022 <br>"
   ]
  },
  {
   "cell_type": "code",
   "execution_count": null,
   "metadata": {},
   "outputs": [],
   "source": [
    "import pandas as pd\n",
    "\n",
    "df = pd.read_csv('swedish_population_by_year_and_sex_1860-2022.csv')\n",
    "\n",
    "dependent_ages = [str(i) for i in range(15)]\n",
    "dependent_ages.extend([str(i) for i in range(65,110)])\n",
    "workers_ages = [str(i) for i in range(15,65)]\n",
    "dependent_ages.append('110+')\n",
    "\n",
    "workers_df = df[df['age'].isin(workers_ages)]\n",
    "workers_df = workers_df.groupby(workers_df['age']).sum()\n",
    "total_workers = workers_df.groupby(workers_df['sex']).sum()\n",
    "total_workers = total_workers.rename(index={'menwomen': 'worker'})\n",
    "\n",
    "depending_df = df[df['age'].isin(dependent_ages)]\n",
    "depending_df = depending_df.groupby(depending_df['age']).sum()\n",
    "total_depending = depending_df.groupby(depending_df['sex']).sum()\n",
    "total_depending = total_depending.rename(index={'menwomen': 'depending'})\n",
    "\n",
    "frames = [total_workers, total_depending]\n",
    "\n",
    "work_dep_df = pd.concat(frames)\n",
    "work_dep_df = work_dep_df.rename_axis('type')\n",
    "work_dep_df.loc['ratio'] = round((work_dep_df.loc['worker'] / work_dep_df.loc['depending'])*100,2)\n",
    "\n",
    "display(work_dep_df)\n",
    "\n"
   ]
  }
 ],
 "metadata": {
  "kernelspec": {
   "display_name": ".venv",
   "language": "python",
   "name": "python3"
  },
  "language_info": {
   "codemirror_mode": {
    "name": "ipython",
    "version": 3
   },
   "file_extension": ".py",
   "mimetype": "text/x-python",
   "name": "python",
   "nbconvert_exporter": "python",
   "pygments_lexer": "ipython3",
   "version": "3.12.1"
  }
 },
 "nbformat": 4,
 "nbformat_minor": 2
}
