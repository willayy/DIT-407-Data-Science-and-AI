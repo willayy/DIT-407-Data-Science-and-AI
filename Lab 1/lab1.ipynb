{
 "cells": [
  {
   "cell_type": "markdown",
   "metadata": {},
   "source": [
    "#### Testing jupyter notebook\n",
    "The code will print ``` \"Hello world\" ``` and verify that pytorch works"
   ]
  },
  {
   "cell_type": "code",
   "execution_count": 2,
   "metadata": {},
   "outputs": [
    {
     "name": "stdout",
     "output_type": "stream",
     "text": [
      "Hello world\n",
      "tensor([[0.4282, 0.5406, 0.2198],\n",
      "        [0.8338, 0.1090, 0.4551],\n",
      "        [0.6711, 0.6952, 0.3618],\n",
      "        [0.9742, 0.1835, 0.7451],\n",
      "        [0.6920, 0.0953, 0.9436]])\n"
     ]
    }
   ],
   "source": [
    "print(\"Hello world\")\n",
    "\n",
    "import torch\n",
    "x = torch.rand(5, 3)\n",
    "print(x)"
   ]
  }
 ],
 "metadata": {
  "kernelspec": {
   "display_name": ".venv",
   "language": "python",
   "name": "python3"
  },
  "language_info": {
   "codemirror_mode": {
    "name": "ipython",
    "version": 3
   },
   "file_extension": ".py",
   "mimetype": "text/x-python",
   "name": "python",
   "nbconvert_exporter": "python",
   "pygments_lexer": "ipython3",
   "version": "3.12.1"
  }
 },
 "nbformat": 4,
 "nbformat_minor": 2
}
