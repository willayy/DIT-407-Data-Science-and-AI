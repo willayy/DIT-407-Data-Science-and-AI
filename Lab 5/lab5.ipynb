{
 "cells": [
  {
   "cell_type": "markdown",
   "metadata": {},
   "source": [
    "## Table information\n",
    "\n",
    "| column        | feature       |\n",
    "| ------------- | ------------- |\n",
    "| 1             | Area (A)      |\n",
    "| 2             | Perimeter (P) |\n",
    "| 3             | Compactness (C) = 4πA/P^2 |\n",
    "| 4             | Length of kernel |\n",
    "| 5             | Width of kernel |\n",
    "| 6             | Asymmetry coefficient |\n",
    "| 7             | Length of the kernel groove |\n",
    "| 8             | Numerical class label |"
   ]
  },
  {
   "cell_type": "markdown",
   "metadata": {},
   "source": [
    "## Load and Visualizing the classes in the data\n",
    "Read the dataset into Pandas. Add the appropriate label names to the columns, <br>\n",
    "as per Table . Note that the data is tab delimitered."
   ]
  },
  {
   "cell_type": "markdown",
   "metadata": {},
   "source": [
    "### Problem a\n",
    "Visualizing multidimensional data like this is a challenge. Visualizations <br>\n",
    "seldom work in more than two dimensions. One way to systematically visualize <br>\n",
    "the data is by projecting it to the constituent dimensions. <br>\n",
    "Plot a scatter plot between each pair of features, coloring the points by <br>\n",
    "the class label. Can we find structure? Can some pair of features tell all point <br>\n",
    "reliably tell all or some classes apart? Include one interesting plot in your report <br>\n",
    "and explain why you think it is interesting. <br>"
   ]
  },
  {
   "cell_type": "code",
   "execution_count": null,
   "metadata": {},
   "outputs": [],
   "source": []
  }
 ],
 "metadata": {
  "language_info": {
   "name": "python"
  }
 },
 "nbformat": 4,
 "nbformat_minor": 2
}
