{
 "cells": [
  {
   "cell_type": "markdown",
   "metadata": {},
   "source": [
    "## Problem 1: Create a Datasheet\n",
    "Download and inspect the dataset HR comma sep.csv from the course Canvas\n",
    "page (for instance by opening it in Python as a Pandas dataframe). Also read\n",
    "the information about the dataset on the above-mentioned Kaggle website.\n",
    "Your task is to create (parts of) a datasheet for the above dataset. In your\n",
    "report clearly state both the question and your answer. Be brief but clear in\n",
    "your answers. None should be longer than a few sentences.\n",
    "In your datasheet you should not answer all the questions from Datasets\n",
    "for Datasheets, as there are very many. You should however try to answer the\n",
    "following questions as best as you can"
   ]
  }
 ],
 "metadata": {
  "language_info": {
   "name": "python"
  }
 },
 "nbformat": 4,
 "nbformat_minor": 2
}
