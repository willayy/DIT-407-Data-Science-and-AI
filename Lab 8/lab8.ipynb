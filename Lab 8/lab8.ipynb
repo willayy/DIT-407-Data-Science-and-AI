{
 "cells": [
  {
   "cell_type": "markdown",
   "metadata": {},
   "source": [
    "## Problem 1: Create a Datasheet\n",
    "Download and inspect the dataset HR comma sep.csv from the course Canvas\n",
    "page (for instance by opening it in Python as a Pandas dataframe). Also read\n",
    "the information about the dataset on the above-mentioned Kaggle website.\n",
    "Your task is to create (parts of) a datasheet for the above dataset. In your\n",
    "report clearly state both the question and your answer. Be brief but clear in\n",
    "your answers. None should be longer than a few sentences.\n",
    "In your datasheet you should not answer all the questions from Datasets\n",
    "for Datasheets, as there are very many. You should however try to answer the\n",
    "following questions as best as you can"
   ]
  },
  {
   "cell_type": "code",
   "execution_count": 2,
   "metadata": {},
   "outputs": [
    {
     "name": "stdout",
     "output_type": "stream",
     "text": [
      "       satisfaction_level  last_evaluation  number_project  \\\n",
      "0                    0.38             0.53               2   \n",
      "1                    0.80             0.86               5   \n",
      "2                    0.11             0.88               7   \n",
      "3                    0.72             0.87               5   \n",
      "4                    0.37             0.52               2   \n",
      "...                   ...              ...             ...   \n",
      "14994                0.40             0.57               2   \n",
      "14995                0.37             0.48               2   \n",
      "14996                0.37             0.53               2   \n",
      "14997                0.11             0.96               6   \n",
      "14998                0.37             0.52               2   \n",
      "\n",
      "       average_montly_hours  time_spend_company  Work_accident  left  \\\n",
      "0                       157                   3              0     1   \n",
      "1                       262                   6              0     1   \n",
      "2                       272                   4              0     1   \n",
      "3                       223                   5              0     1   \n",
      "4                       159                   3              0     1   \n",
      "...                     ...                 ...            ...   ...   \n",
      "14994                   151                   3              0     1   \n",
      "14995                   160                   3              0     1   \n",
      "14996                   143                   3              0     1   \n",
      "14997                   280                   4              0     1   \n",
      "14998                   158                   3              0     1   \n",
      "\n",
      "       promotion_last_5years Department  salary  \n",
      "0                          0      sales     low  \n",
      "1                          0      sales  medium  \n",
      "2                          0      sales  medium  \n",
      "3                          0      sales     low  \n",
      "4                          0      sales     low  \n",
      "...                      ...        ...     ...  \n",
      "14994                      0    support     low  \n",
      "14995                      0    support     low  \n",
      "14996                      0    support     low  \n",
      "14997                      0    support     low  \n",
      "14998                      0    support     low  \n",
      "\n",
      "[14999 rows x 10 columns]\n"
     ]
    }
   ],
   "source": [
    "import pandas as pd\n",
    "import matplotlib as plt\n",
    "raw_df = pd.read_csv('HR_comma_sep.csv')\n",
    "print(raw_df)"
   ]
  }
 ],
 "metadata": {
  "kernelspec": {
   "display_name": ".venv",
   "language": "python",
   "name": "python3"
  },
  "language_info": {
   "codemirror_mode": {
    "name": "ipython",
    "version": 3
   },
   "file_extension": ".py",
   "mimetype": "text/x-python",
   "name": "python",
   "nbconvert_exporter": "python",
   "pygments_lexer": "ipython3",
   "version": "3.12.2"
  }
 },
 "nbformat": 4,
 "nbformat_minor": 2
}
